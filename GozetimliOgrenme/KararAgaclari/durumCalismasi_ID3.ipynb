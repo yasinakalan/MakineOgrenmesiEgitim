{
 "cells": [
  {
   "cell_type": "code",
   "execution_count": 168,
   "metadata": {},
   "outputs": [],
   "source": [
    "import numpy as np\n",
    "import pandas as pd\n",
    "import math\n",
    "from sklearn.tree import DecisionTreeClassifier\n",
    "from sklearn.model_selection import train_test_split"
   ]
  },
  {
   "cell_type": "code",
   "execution_count": 169,
   "metadata": {},
   "outputs": [],
   "source": [
    "veri = {'Outlook':          [\"Sunny\", \"Sunny\", \"Overcast\", \"Rain\", \"Rain\", \"Rain\", \"Overcast\", \"Sunny\", \"Sunny\", \"Rain\", \"Sunny\", \"Overcast\", \"Overcast\", \"Rain\"],\n",
    "        'Temperature':      [\"Hot\",\"Hot\",\"Hot\",\"Mild\",\"Cool\",\"Cool\",\"Cool\",\"Mild\",\"Cool\",\"Mild\",\"Mild\",\"Mild\",\"Hot\",\"Mild\"],\n",
    "        'Humidity':         [\"High\", \"High\",\"High\",\"High\",\"Normal\",\"Normal\",\"Normal\", \"High\", \"Normal\",\"Normal\",\"Normal\",\"High\",\"Normal\",\"High\"],\n",
    "        'Wind':             [\"Weak\", \"Strong\", \"Weak\",\"Weak\",\"Weak\",\"Strong\",\"Strong\",\"Weak\",\"Weak\",\"Weak\",\"Strong\",\"Strong\",\"Weak\",\"Strong\"],\n",
    "        'PlayedFootball':   [\"No\",\"No\", \"Yes\", \"Yes\", \"Yes\", \"No\", \"Yes\",\"No\", \"Yes\",\"Yes\", \"Yes\",\"Yes\",\"Yes\",\"No\"]}"
   ]
  },
  {
   "cell_type": "code",
   "execution_count": 170,
   "metadata": {},
   "outputs": [
    {
     "data": {
      "text/html": [
       "<div>\n",
       "<style scoped>\n",
       "    .dataframe tbody tr th:only-of-type {\n",
       "        vertical-align: middle;\n",
       "    }\n",
       "\n",
       "    .dataframe tbody tr th {\n",
       "        vertical-align: top;\n",
       "    }\n",
       "\n",
       "    .dataframe thead th {\n",
       "        text-align: right;\n",
       "    }\n",
       "</style>\n",
       "<table border=\"1\" class=\"dataframe\">\n",
       "  <thead>\n",
       "    <tr style=\"text-align: right;\">\n",
       "      <th></th>\n",
       "      <th>Outlook</th>\n",
       "      <th>Temperature</th>\n",
       "      <th>Humidity</th>\n",
       "      <th>Wind</th>\n",
       "      <th>PlayedFootball</th>\n",
       "    </tr>\n",
       "  </thead>\n",
       "  <tbody>\n",
       "    <tr>\n",
       "      <th>0</th>\n",
       "      <td>Sunny</td>\n",
       "      <td>Hot</td>\n",
       "      <td>High</td>\n",
       "      <td>Weak</td>\n",
       "      <td>No</td>\n",
       "    </tr>\n",
       "    <tr>\n",
       "      <th>1</th>\n",
       "      <td>Sunny</td>\n",
       "      <td>Hot</td>\n",
       "      <td>High</td>\n",
       "      <td>Strong</td>\n",
       "      <td>No</td>\n",
       "    </tr>\n",
       "    <tr>\n",
       "      <th>2</th>\n",
       "      <td>Overcast</td>\n",
       "      <td>Hot</td>\n",
       "      <td>High</td>\n",
       "      <td>Weak</td>\n",
       "      <td>Yes</td>\n",
       "    </tr>\n",
       "    <tr>\n",
       "      <th>3</th>\n",
       "      <td>Rain</td>\n",
       "      <td>Mild</td>\n",
       "      <td>High</td>\n",
       "      <td>Weak</td>\n",
       "      <td>Yes</td>\n",
       "    </tr>\n",
       "    <tr>\n",
       "      <th>4</th>\n",
       "      <td>Rain</td>\n",
       "      <td>Cool</td>\n",
       "      <td>Normal</td>\n",
       "      <td>Weak</td>\n",
       "      <td>Yes</td>\n",
       "    </tr>\n",
       "    <tr>\n",
       "      <th>5</th>\n",
       "      <td>Rain</td>\n",
       "      <td>Cool</td>\n",
       "      <td>Normal</td>\n",
       "      <td>Strong</td>\n",
       "      <td>No</td>\n",
       "    </tr>\n",
       "    <tr>\n",
       "      <th>6</th>\n",
       "      <td>Overcast</td>\n",
       "      <td>Cool</td>\n",
       "      <td>Normal</td>\n",
       "      <td>Strong</td>\n",
       "      <td>Yes</td>\n",
       "    </tr>\n",
       "    <tr>\n",
       "      <th>7</th>\n",
       "      <td>Sunny</td>\n",
       "      <td>Mild</td>\n",
       "      <td>High</td>\n",
       "      <td>Weak</td>\n",
       "      <td>No</td>\n",
       "    </tr>\n",
       "    <tr>\n",
       "      <th>8</th>\n",
       "      <td>Sunny</td>\n",
       "      <td>Cool</td>\n",
       "      <td>Normal</td>\n",
       "      <td>Weak</td>\n",
       "      <td>Yes</td>\n",
       "    </tr>\n",
       "    <tr>\n",
       "      <th>9</th>\n",
       "      <td>Rain</td>\n",
       "      <td>Mild</td>\n",
       "      <td>Normal</td>\n",
       "      <td>Weak</td>\n",
       "      <td>Yes</td>\n",
       "    </tr>\n",
       "    <tr>\n",
       "      <th>10</th>\n",
       "      <td>Sunny</td>\n",
       "      <td>Mild</td>\n",
       "      <td>Normal</td>\n",
       "      <td>Strong</td>\n",
       "      <td>Yes</td>\n",
       "    </tr>\n",
       "    <tr>\n",
       "      <th>11</th>\n",
       "      <td>Overcast</td>\n",
       "      <td>Mild</td>\n",
       "      <td>High</td>\n",
       "      <td>Strong</td>\n",
       "      <td>Yes</td>\n",
       "    </tr>\n",
       "    <tr>\n",
       "      <th>12</th>\n",
       "      <td>Overcast</td>\n",
       "      <td>Hot</td>\n",
       "      <td>Normal</td>\n",
       "      <td>Weak</td>\n",
       "      <td>Yes</td>\n",
       "    </tr>\n",
       "    <tr>\n",
       "      <th>13</th>\n",
       "      <td>Rain</td>\n",
       "      <td>Mild</td>\n",
       "      <td>High</td>\n",
       "      <td>Strong</td>\n",
       "      <td>No</td>\n",
       "    </tr>\n",
       "  </tbody>\n",
       "</table>\n",
       "</div>"
      ],
      "text/plain": [
       "     Outlook Temperature Humidity    Wind PlayedFootball\n",
       "0      Sunny         Hot     High    Weak             No\n",
       "1      Sunny         Hot     High  Strong             No\n",
       "2   Overcast         Hot     High    Weak            Yes\n",
       "3       Rain        Mild     High    Weak            Yes\n",
       "4       Rain        Cool   Normal    Weak            Yes\n",
       "5       Rain        Cool   Normal  Strong             No\n",
       "6   Overcast        Cool   Normal  Strong            Yes\n",
       "7      Sunny        Mild     High    Weak             No\n",
       "8      Sunny        Cool   Normal    Weak            Yes\n",
       "9       Rain        Mild   Normal    Weak            Yes\n",
       "10     Sunny        Mild   Normal  Strong            Yes\n",
       "11  Overcast        Mild     High  Strong            Yes\n",
       "12  Overcast         Hot   Normal    Weak            Yes\n",
       "13      Rain        Mild     High  Strong             No"
      ]
     },
     "execution_count": 170,
     "metadata": {},
     "output_type": "execute_result"
    }
   ],
   "source": [
    "df = pd.DataFrame(veri)\n",
    "df"
   ]
  },
  {
   "cell_type": "code",
   "execution_count": 171,
   "metadata": {},
   "outputs": [
    {
     "name": "stdout",
     "output_type": "stream",
     "text": [
      "Outlook sutunundaki verilerin listesi: Outlook\n",
      "Sunny       5\n",
      "Rain        5\n",
      "Overcast    4\n",
      "Name: count, dtype: int64\n",
      "\n",
      "\n",
      "\n",
      "Temperature sutunundaki verilerin listesi: Temperature\n",
      "Mild    6\n",
      "Hot     4\n",
      "Cool    4\n",
      "Name: count, dtype: int64\n",
      "\n",
      "\n",
      "\n",
      "Humidity sutunundaki verilerin listesi: Humidity\n",
      "High      7\n",
      "Normal    7\n",
      "Name: count, dtype: int64\n",
      "\n",
      "\n",
      "\n",
      "Wind sutunundaki verilerin listesi: Wind\n",
      "Weak      8\n",
      "Strong    6\n",
      "Name: count, dtype: int64\n",
      "\n",
      "\n",
      "\n",
      "PlayedFootball sutunundaki verilerin listesi: PlayedFootball\n",
      "Yes    9\n",
      "No     5\n",
      "Name: count, dtype: int64\n",
      "\n",
      "\n",
      "\n"
     ]
    }
   ],
   "source": [
    "# Benzersiz verilerin sütun bazında tespitinin yapılması:\n",
    "sutunOzellikSayimlari = {}\n",
    "for i in range(len(df.columns)):\n",
    "    sayim = df[df.columns[i]].value_counts()\n",
    "    sutunOzellikSayimlari[df.columns[i]] = sayim.to_dict()\n",
    "    print(f'{df.columns[i]} sutunundaki verilerin listesi: {sayim}')\n",
    "    print('\\n\\n')"
   ]
  },
  {
   "cell_type": "code",
   "execution_count": 172,
   "metadata": {},
   "outputs": [
    {
     "data": {
      "text/plain": [
       "{'Outlook': {'Sunny': 5, 'Rain': 5, 'Overcast': 4},\n",
       " 'Temperature': {'Mild': 6, 'Hot': 4, 'Cool': 4},\n",
       " 'Humidity': {'High': 7, 'Normal': 7},\n",
       " 'Wind': {'Weak': 8, 'Strong': 6},\n",
       " 'PlayedFootball': {'Yes': 9, 'No': 5}}"
      ]
     },
     "execution_count": 172,
     "metadata": {},
     "output_type": "execute_result"
    }
   ],
   "source": [
    "sutunOzellikSayimlari"
   ]
  },
  {
   "cell_type": "code",
   "execution_count": 173,
   "metadata": {},
   "outputs": [
    {
     "data": {
      "text/plain": [
       "[['Outlook', ['Sunny', 5], ['Rain', 5], ['Overcast', 4]],\n",
       " ['Temperature', ['Mild', 6], ['Hot', 4], ['Cool', 4]],\n",
       " ['Humidity', ['High', 7], ['Normal', 7]],\n",
       " ['Wind', ['Weak', 8], ['Strong', 6]],\n",
       " ['PlayedFootball', ['Yes', 9], ['No', 5]]]"
      ]
     },
     "execution_count": 173,
     "metadata": {},
     "output_type": "execute_result"
    }
   ],
   "source": [
    "def sozluk_cevir(sozluk):\n",
    "    # Bu fonksiyon, iç içe sözlükleri derinlikli listeye dönüştürür.\n",
    "    sonuc_listesi = []  # Sonuç için boş bir liste oluşturulur.\n",
    "    for anahtar, deger in sozluk.items():  # Sözlüğün anahtar ve değer çiftleri üzerinde döngü yapılır.\n",
    "        icerik = [anahtar]  # Anahtar, sonuç listesine eklenir.\n",
    "        if isinstance(deger, dict):  # Eğer değer yine bir sözlükse,\n",
    "            icerik.extend(sozluk_cevir(deger))  # Fonksiyon kendini tekrar çağırarak iç içe sözlükleri çözer. Fonksiyon sonucunu doğrudan ekleyin, bir liste içine almayın.\n",
    "        else:\n",
    "            icerik.append(deger)  # Değer bir sözlük değilse doğrudan eklenir.\n",
    "        sonuc_listesi.append(icerik)  # Oluşturulan içerik, sonuç listesine eklenir.\n",
    "    return sonuc_listesi  # Sonuç listesi döndürülür.\n",
    "\n",
    "cevrilmis_ifade = sozluk_cevir(sutunOzellikSayimlari)\n",
    "cevrilmis_ifade"
   ]
  },
  {
   "cell_type": "code",
   "execution_count": 174,
   "metadata": {},
   "outputs": [
    {
     "data": {
      "text/plain": [
       "[[[5], [5], [4]], [[6], [4], [4]], [[7], [7]], [[8], [6]], [[9], [5]]]"
      ]
     },
     "execution_count": 174,
     "metadata": {},
     "output_type": "execute_result"
    }
   ],
   "source": [
    "# Satır elemanlarının sayımı:\n",
    "# Ana fonksiyon, verilen iç içe listelerden sayısal değerleri çıkarır\n",
    "def sayim_listesi(veri_listesi):\n",
    "    tum_sayimlar = []  # Sonuçları saklamak için bir liste\n",
    "\n",
    "    # Sayıları çıkarmak için yardımcı özyinelemeli fonksiyon\n",
    "    def sayilari_cikar(liste):\n",
    "        sayilar = []  # Sayıları saklamak için liste\n",
    "        for oge in liste:  # Her öğeyi kontrol et\n",
    "            if isinstance(oge, list):  # Eğer öğe bir liste ise\n",
    "                sayilar.extend([sayilari_cikar(oge)])  # Özyineleme ile içindeki sayıları ekle\n",
    "            elif isinstance(oge, int or float):  # Eğer öğe bir sayı ise\n",
    "                sayilar.append(oge)  # Sayıyı listeye ekle\n",
    "        return sayilar  # Sayılar listesini döndür\n",
    "\n",
    "    for item in veri_listesi:  # Ana liste içindeki her öğeyi kontrol et\n",
    "        sayilar = sayilari_cikar(item[1:])  # İlk öğe hariç diğerlerinden sayıları çıkar\n",
    "        tum_sayimlar.append(sayilar)  # Bulunan sayıları sonuç listesine ekle\n",
    "    \n",
    "    return tum_sayimlar  # Sonuç listesini döndür\n",
    "\n",
    "# Fonksiyonu çağır ve sonucu yazdır\n",
    "tum_sayim_listesi = sayim_listesi(cevrilmis_ifade)\n",
    "tum_sayim_listesi"
   ]
  },
  {
   "cell_type": "code",
   "execution_count": 175,
   "metadata": {},
   "outputs": [
    {
     "name": "stdout",
     "output_type": "stream",
     "text": [
      "[[0.35714285714285715, 0.35714285714285715, 0.2857142857142857], [0.42857142857142855, 0.2857142857142857, 0.2857142857142857], [0.5, 0.5], [0.5714285714285714, 0.42857142857142855], [0.6428571428571429, 0.35714285714285715]]\n"
     ]
    }
   ],
   "source": [
    "# Her verikümesi için ayrı ayrı olasılıkları hesapla\n",
    "def olasilik(olasilikListe):\n",
    "    olasilikSonuc = []\n",
    "    for alt_liste in olasilikListe:\n",
    "        toplam = 0\n",
    "        for eleman in alt_liste:\n",
    "            toplam += eleman[0]  # Her bir elemanın ilk değerini al\n",
    "        alt_olasiliklar = [i[0] / toplam for i in alt_liste]  # Her bir elemanın olasılığını hesapla\n",
    "        olasilikSonuc.append(alt_olasiliklar)  # Oluşan olasılıkları sonuç listesine ekle\n",
    "    return olasilikSonuc\n",
    "\n",
    "veri = [[[5], [5], [4]], [[6], [4], [4]], [[7], [7]], [[8], [6]], [[9], [5]]]\n",
    "tumOlasilik = olasilik(veri)\n",
    "print(tumOlasilik)"
   ]
  },
  {
   "cell_type": "code",
   "execution_count": 176,
   "metadata": {},
   "outputs": [
    {
     "data": {
      "text/plain": [
       "[[0.35714285714285715, 0.35714285714285715, 0.2857142857142857],\n",
       " [0.42857142857142855, 0.2857142857142857, 0.2857142857142857],\n",
       " [0.5, 0.5],\n",
       " [0.5714285714285714, 0.42857142857142855]]"
      ]
     },
     "execution_count": 176,
     "metadata": {},
     "output_type": "execute_result"
    }
   ],
   "source": [
    "# Olasılıkları ayır\n",
    "etiketOlasilik_y = tumOlasilik[-1]\n",
    "ozelliklerOlasilik_x = tumOlasilik[:-1]\n",
    "ozelliklerOlasilik_x"
   ]
  },
  {
   "cell_type": "code",
   "execution_count": 177,
   "metadata": {},
   "outputs": [
    {
     "name": "stdout",
     "output_type": "stream",
     "text": [
      "Hata: İşlenemeyen eleman: 0.6428571428571429\n",
      "Hata: İşlenemeyen eleman: 0.35714285714285715\n"
     ]
    },
    {
     "data": {
      "text/plain": [
       "0.9402859586706309"
      ]
     },
     "execution_count": 177,
     "metadata": {},
     "output_type": "execute_result"
    }
   ],
   "source": [
    "# Entropileri hesapla\n",
    "def entropy(liste):\n",
    "    toplam = 0\n",
    "    for eleman in liste:\n",
    "        if isinstance(eleman, (int, float)):\n",
    "            islem = (-1) * (eleman)  * math.log(eleman ,2)\n",
    "            toplam += islem\n",
    "        if isinstance(eleman, list):\n",
    "            for alt_eleman in eleman:\n",
    "                if isinstance(alt_eleman, (int, float)):\n",
    "                    islem = (-1) * (alt_eleman)  * math.log(alt_eleman ,2)\n",
    "                    toplam += islem\n",
    "                else:\n",
    "                    print(\"Listenin derinlik sayısı fazla, işlenemeyen eleman:\", alt_eleman)\n",
    "        else:\n",
    "            print(\"Hata: İşlenemeyen eleman:\", eleman)\n",
    "    return toplam\n",
    "entropi_y = entropy(etiketOlasilik_y)\n",
    "entropi_y\n"
   ]
  },
  {
   "cell_type": "code",
   "execution_count": 178,
   "metadata": {},
   "outputs": [
    {
     "data": {
      "text/plain": [
       "0.9402859586706309"
      ]
     },
     "execution_count": 178,
     "metadata": {},
     "output_type": "execute_result"
    }
   ],
   "source": [
    "entropi_y"
   ]
  },
  {
   "cell_type": "code",
   "execution_count": 180,
   "metadata": {},
   "outputs": [
    {
     "data": {
      "text/plain": [
       "\"\\n0- Verisetinin entropisini hesaplayan bir fonksiyon oluştur ve bunu listeye ekle. Verisetinin entropisi aslında y'nin yani sonucun(PlayedFootball) etiketinin entropisidir. Entropy(S)=Entropy(PlayedFootball)\\n1- her sütun için benzersiz veri sayıları bulunan sözlüğü oluştur. A = {indeks-1: 3, indeks-2: 5, ....}; B= {indeks-1: 4, indeks-2: 8, ....}\\n2- her sütun indeksi için olasılıkları hesaplamak için fonksiyon oluştur.\\n3- her sütun için entropiyi hesaplayan fonksiyonu oluştur.\\n4- bulunan her entropi değerini bir liste/sözlük içerisine ekle.\\n5- her sütun için bilgi kazancını hesaplayan fonksiyonu oluştur.\\n6- her sözlük bir sütunu ifade eder. Tüm sözlüklerin entropisini hesaplayıp bir sözlük içerisine ekle\\n\""
      ]
     },
     "execution_count": 180,
     "metadata": {},
     "output_type": "execute_result"
    }
   ],
   "source": [
    "# Kök değer bulma hesabı:\n",
    "# Entropi(Outlook) = Entropi(5,5,4)\n",
    "# Entropi(Temperature) = Entropi(6,4,4)\n",
    "# Entropi(Humidity) = Entropi(7,7)\n",
    "# Entropi(Wind) = Entropi(8,6)\n",
    "\n",
    "# Gain(S,A) = Entropy(S) - sigma((|Sv/S|)*Entropy(Sv))\n",
    "\"\"\"\n",
    "Gain(S,A) --> Bilgi kazancı\n",
    "Entropy(S) --> Etiketin entropisi\n",
    "Entropy(Sv) --> Özelliğin entropisi\n",
    "\"\"\"\n",
    "# Algoritma:\n",
    "\"\"\"\n",
    "0- Verisetinin entropisini hesaplayan bir fonksiyon oluştur ve bunu listeye ekle. Verisetinin entropisi aslında y'nin yani sonucun(PlayedFootball) etiketinin entropisidir. Entropy(S)=Entropy(PlayedFootball)\n",
    "1- her sütun için benzersiz veri sayıları bulunan sözlüğü oluştur. A = {indeks-1: 3, indeks-2: 5, ....}; B= {indeks-1: 4, indeks-2: 8, ....}\n",
    "2- her sütun indeksi için olasılıkları hesaplamak için fonksiyon oluştur.\n",
    "3- her sütun için entropiyi hesaplayan fonksiyonu oluştur.\n",
    "4- bulunan her entropi değerini bir liste/sözlük içerisine ekle.\n",
    "5- her sütun için bilgi kazancını hesaplayan fonksiyonu oluştur.\n",
    "6- her sözlük bir sütunu ifade eder. Tüm sözlüklerin entropisini hesaplayıp bir sözlük içerisine ekle\n",
    "\"\"\""
   ]
  },
  {
   "cell_type": "code",
   "execution_count": null,
   "metadata": {},
   "outputs": [],
   "source": []
  }
 ],
 "metadata": {
  "kernelspec": {
   "display_name": "Python 3",
   "language": "python",
   "name": "python3"
  },
  "language_info": {
   "codemirror_mode": {
    "name": "ipython",
    "version": 3
   },
   "file_extension": ".py",
   "mimetype": "text/x-python",
   "name": "python",
   "nbconvert_exporter": "python",
   "pygments_lexer": "ipython3",
   "version": "3.12.3"
  }
 },
 "nbformat": 4,
 "nbformat_minor": 2
}
