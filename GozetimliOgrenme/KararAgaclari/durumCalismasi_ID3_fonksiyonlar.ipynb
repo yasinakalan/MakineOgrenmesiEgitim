{
 "cells": [
  {
   "cell_type": "code",
   "execution_count": 206,
   "metadata": {},
   "outputs": [],
   "source": [
    "import numpy as np\n",
    "import math\n",
    "from sklearn.tree import DecisionTreeClassifier\n",
    "from sklearn.model_selection import train_test_split"
   ]
  },
  {
   "cell_type": "code",
   "execution_count": 207,
   "metadata": {},
   "outputs": [],
   "source": [
    "veri = {'Outlook':          [\"Sunny\", \"Sunny\", \"Overcast\", \"Rain\", \"Rain\", \"Rain\", \"Overcast\", \"Sunny\", \"Sunny\", \"Rain\", \"Sunny\", \"Overcast\", \"Overcast\", \"Rain\"],\n",
    "        'Temperature':      [\"Hot\",\"Hot\",\"Hot\",\"Mild\",\"Cool\",\"Cool\",\"Cool\",\"Mild\",\"Cool\",\"Mild\",\"Mild\",\"Mild\",\"Hot\",\"Mild\"],\n",
    "        'Humidity':         [\"High\", \"High\",\"High\",\"High\",\"Normal\",\"Normal\",\"Normal\", \"High\", \"Normal\",\"Normal\",\"Normal\",\"High\",\"Normal\",\"High\"],\n",
    "        'Wind':             [\"Weak\", \"Strong\", \"Weak\",\"Weak\",\"Weak\",\"Strong\",\"Strong\",\"Weak\",\"Weak\",\"Weak\",\"Strong\",\"Strong\",\"Weak\",\"Strong\"],\n",
    "        'PlayedFootball':   [\"No\",\"No\", \"Yes\", \"Yes\", \"Yes\", \"No\", \"Yes\",\"No\", \"Yes\",\"Yes\", \"Yes\",\"Yes\",\"Yes\",\"No\"]}"
   ]
  },
  {
   "cell_type": "code",
   "execution_count": 208,
   "metadata": {},
   "outputs": [],
   "source": [
    "# INPUT\n",
    "etiketSutunuAdi = 'PlayedFootball'"
   ]
  },
  {
   "cell_type": "code",
   "execution_count": 209,
   "metadata": {},
   "outputs": [],
   "source": [
    "def dataframeOlustur(sozluk):\n",
    "    import pandas as pd\n",
    "    return pd, pd.DataFrame(sozluk)"
   ]
  },
  {
   "cell_type": "code",
   "execution_count": 210,
   "metadata": {},
   "outputs": [],
   "source": [
    "def dataframeAyirma(veri, etiketSutunuAdi):\n",
    "    pd, df = dataframeOlustur(veri)\n",
    "    df_etiket = pd.DataFrame(df[etiketSutunuAdi])\n",
    "    df_ozellikler = df.drop(etiketSutunuAdi, axis=1)\n",
    "    return df_etiket, df_ozellikler"
   ]
  },
  {
   "cell_type": "code",
   "execution_count": 211,
   "metadata": {},
   "outputs": [],
   "source": [
    "def benzersizVeriListesi(sutunAdi):\n",
    "    sayim = sutunAdi.value_counts()\n",
    "    sayimSozlugu = sayim.to_dict()\n",
    "    return list(sayimSozlugu.keys())"
   ]
  },
  {
   "cell_type": "code",
   "execution_count": 212,
   "metadata": {},
   "outputs": [],
   "source": [
    "def isimTespit(veri):\n",
    "    isimTespitSozluk = {}\n",
    "    for sutunAdi in veri.columns:\n",
    "        isimTespitSozluk[sutunAdi] = benzersizVeriListesi(veri[sutunAdi])\n",
    "    return isimTespitSozluk"
   ]
  },
  {
   "cell_type": "code",
   "execution_count": 213,
   "metadata": {},
   "outputs": [],
   "source": [
    "def satirAdlariListesi(veri):\n",
    "    sozluk = isimTespit(veri)\n",
    "    liste = []\n",
    "    for sutunAdi in sozluk:\n",
    "        liste.extend(sozluk[sutunAdi])\n",
    "    return liste"
   ]
  },
  {
   "cell_type": "code",
   "execution_count": 214,
   "metadata": {},
   "outputs": [],
   "source": [
    "def sutunAdlariListesi(veri):\n",
    "    sozluk = isimTespit(veri)\n",
    "    return list(sozluk.keys())"
   ]
  },
  {
   "cell_type": "code",
   "execution_count": 215,
   "metadata": {},
   "outputs": [],
   "source": [
    "def df_filtreleme(veri, sutunAdi, satirAdi):\n",
    "    pd, df = dataframeOlustur(veri)\n",
    "    return df[df[sutunAdi] == satirAdi]"
   ]
  },
  {
   "cell_type": "code",
   "execution_count": 216,
   "metadata": {},
   "outputs": [],
   "source": [
    "def isimOlustur(isim1, isim2):\n",
    "    return isim1 + \">\" + isim2"
   ]
  },
  {
   "cell_type": "code",
   "execution_count": 217,
   "metadata": {},
   "outputs": [],
   "source": [
    "def datasetOlustur(veri, sutunAdi=0, satirAdi=0):\n",
    "    datasets = {}\n",
    "    sutunAdlari = sutunAdlariListesi(veri)\n",
    "    satirAdlari = satirAdlariListesi(veri)\n",
    "    \n",
    "    for satirNo in range(len(satirAdlari)):\n",
    "        satirAdlari = satirAdlari[satirNo]\n",
    "        isim = isimOlustur()\n",
    "        datasets[isim] = df_filtreleme(sutunAdi, satirAdi)\n",
    "    return datasets"
   ]
  },
  {
   "cell_type": "code",
   "execution_count": 218,
   "metadata": {},
   "outputs": [],
   "source": [
    "def func():\n",
    "    for satirNo in range(len(satirAdlari)):\n",
    "        satirAdi = sa"
   ]
  },
  {
   "cell_type": "code",
   "execution_count": 219,
   "metadata": {},
   "outputs": [],
   "source": [
    "# datasets = {}\n",
    "# for sutunAdi in df_ozellikler.columns:\n",
    "#     satirAdlari = list(df_ozellikler[sutunAdi].value_counts().to_dict().keys())\n",
    "#     for satirNo in range(len(satirAdlari)):\n",
    "#         satirAdi = satirAdlari[satirNo]\n",
    "#         isim = isimOlustur(sutunAdi, satirAdi)\n",
    "#         datasets[isim] = df_filtreleme(sutunAdi, satirAdi)\n",
    "\n",
    "# datasetsNames = list(datasets.keys())\n",
    "# datasets"
   ]
  },
  {
   "cell_type": "code",
   "execution_count": 220,
   "metadata": {},
   "outputs": [],
   "source": [
    "def kararAgaclari_id3(veri, etiket):\n",
    "    pd, df = dataframeOlustur(veri)\n",
    "    df_etiket, df_ozellikler = dataframeAyirma(df, etiket)\n",
    "    datasets = datasetOlustur(df_ozellikler)\n",
    "    \n",
    "    return datasets"
   ]
  },
  {
   "cell_type": "code",
   "execution_count": 221,
   "metadata": {},
   "outputs": [
    {
     "ename": "TypeError",
     "evalue": "isimOlustur() missing 2 required positional arguments: 'isim1' and 'isim2'",
     "output_type": "error",
     "traceback": [
      "\u001b[1;31m---------------------------------------------------------------------------\u001b[0m",
      "\u001b[1;31mTypeError\u001b[0m                                 Traceback (most recent call last)",
      "Cell \u001b[1;32mIn[221], line 1\u001b[0m\n\u001b[1;32m----> 1\u001b[0m sonuc \u001b[38;5;241m=\u001b[39m \u001b[43mkararAgaclari_id3\u001b[49m\u001b[43m(\u001b[49m\u001b[43mveri\u001b[49m\u001b[43m,\u001b[49m\u001b[43m \u001b[49m\u001b[43metiketSutunuAdi\u001b[49m\u001b[43m)\u001b[49m\n\u001b[0;32m      2\u001b[0m \u001b[38;5;66;03m# sonuc['Outlook']\u001b[39;00m\n\u001b[0;32m      3\u001b[0m sonuc\n",
      "Cell \u001b[1;32mIn[220], line 4\u001b[0m, in \u001b[0;36mkararAgaclari_id3\u001b[1;34m(veri, etiket)\u001b[0m\n\u001b[0;32m      2\u001b[0m pd, df \u001b[38;5;241m=\u001b[39m dataframeOlustur(veri)\n\u001b[0;32m      3\u001b[0m df_etiket, df_ozellikler \u001b[38;5;241m=\u001b[39m dataframeAyirma(df, etiket)\n\u001b[1;32m----> 4\u001b[0m datasets \u001b[38;5;241m=\u001b[39m \u001b[43mdatasetOlustur\u001b[49m\u001b[43m(\u001b[49m\u001b[43mdf_ozellikler\u001b[49m\u001b[43m)\u001b[49m\n\u001b[0;32m      6\u001b[0m \u001b[38;5;28;01mreturn\u001b[39;00m datasets\n",
      "Cell \u001b[1;32mIn[217], line 8\u001b[0m, in \u001b[0;36mdatasetOlustur\u001b[1;34m(veri, sutunAdi, satirAdi)\u001b[0m\n\u001b[0;32m      6\u001b[0m \u001b[38;5;28;01mfor\u001b[39;00m satirNo \u001b[38;5;129;01min\u001b[39;00m \u001b[38;5;28mrange\u001b[39m(\u001b[38;5;28mlen\u001b[39m(satirAdlari)):\n\u001b[0;32m      7\u001b[0m     satirAdlari \u001b[38;5;241m=\u001b[39m satirAdlari[satirNo]\n\u001b[1;32m----> 8\u001b[0m     isim \u001b[38;5;241m=\u001b[39m \u001b[43misimOlustur\u001b[49m\u001b[43m(\u001b[49m\u001b[43m)\u001b[49m\n\u001b[0;32m      9\u001b[0m     datasets[isim] \u001b[38;5;241m=\u001b[39m df_filtreleme(sutunAdi, satirAdi)\n\u001b[0;32m     10\u001b[0m \u001b[38;5;28;01mreturn\u001b[39;00m datasets\n",
      "\u001b[1;31mTypeError\u001b[0m: isimOlustur() missing 2 required positional arguments: 'isim1' and 'isim2'"
     ]
    }
   ],
   "source": [
    "sonuc = kararAgaclari_id3(veri, etiketSutunuAdi)\n",
    "# sonuc['Outlook']\n",
    "sonuc"
   ]
  },
  {
   "cell_type": "code",
   "execution_count": null,
   "metadata": {},
   "outputs": [],
   "source": []
  },
  {
   "cell_type": "code",
   "execution_count": null,
   "metadata": {},
   "outputs": [],
   "source": [
    "# entropiler = {}\n",
    "# for name in datasetsNames:\n",
    "#     degisken = datasets[name][etiketSutunuAdi].value_counts().to_dict()\n",
    "#     payda = sum(degisken.values())\n",
    "#     entropi = 0\n",
    "#     for pay in degisken:\n",
    "#         olasilik = degisken[pay] / payda\n",
    "#         entropi += olasilik*(-1)*(math.log(olasilik, 2))\n",
    "                                  \n",
    "#     isim = name + \"_\" + \"entropi\"\n",
    "#     entropiler[isim] = entropi\n",
    "    \n",
    "# entropiler\n"
   ]
  },
  {
   "cell_type": "code",
   "execution_count": null,
   "metadata": {},
   "outputs": [],
   "source": []
  },
  {
   "cell_type": "code",
   "execution_count": null,
   "metadata": {},
   "outputs": [],
   "source": []
  },
  {
   "cell_type": "code",
   "execution_count": null,
   "metadata": {},
   "outputs": [],
   "source": []
  },
  {
   "cell_type": "code",
   "execution_count": null,
   "metadata": {},
   "outputs": [],
   "source": [
    "import numpy as np\n",
    "import pandas as pd\n",
    "import math\n",
    "from sklearn.tree import DecisionTreeClassifier\n",
    "from sklearn.model_selection import train_test_split\n",
    "veri = {'Outlook':          [\"Sunny\", \"Sunny\", \"Overcast\", \"Rain\", \"Rain\", \"Rain\", \"Overcast\", \"Sunny\", \"Sunny\", \"Rain\", \"Sunny\", \"Overcast\", \"Overcast\", \"Rain\"],\n",
    "        'Temperature':      [\"Hot\",\"Hot\",\"Hot\",\"Mild\",\"Cool\",\"Cool\",\"Cool\",\"Mild\",\"Cool\",\"Mild\",\"Mild\",\"Mild\",\"Hot\",\"Mild\"],\n",
    "        'Humidity':         [\"High\", \"High\",\"High\",\"High\",\"Normal\",\"Normal\",\"Normal\", \"High\", \"Normal\",\"Normal\",\"Normal\",\"High\",\"Normal\",\"High\"],\n",
    "        'Wind':             [\"Weak\", \"Strong\", \"Weak\",\"Weak\",\"Weak\",\"Strong\",\"Strong\",\"Weak\",\"Weak\",\"Weak\",\"Strong\",\"Strong\",\"Weak\",\"Strong\"],\n",
    "        'PlayedFootball':   [\"No\",\"No\", \"Yes\", \"Yes\", \"Yes\", \"No\", \"Yes\",\"No\", \"Yes\",\"Yes\", \"Yes\",\"Yes\",\"Yes\",\"No\"]}\n",
    "df = pd.DataFrame(veri)\n",
    "df\n",
    "def df_filtreleme(sutunAdi, satirAdi):\n",
    "    yeni_df = df[df[sutunAdi] == satirAdi]\n",
    "    return yeni_df\n",
    "\n",
    "etiketSutunuAdi = 'PlayedFootball'              # INPUT\n",
    "df_etiket = pd.DataFrame(df[etiketSutunuAdi])\n",
    "df_ozellikler = df.drop(etiketSutunuAdi, axis=1)\n",
    "\n",
    "datasets = {}\n",
    "for sutunAdi in df_ozellikler.columns:\n",
    "    satirAdlari = list(df_ozellikler[sutunAdi].value_counts().to_dict().keys())\n",
    "    for satirNo in range(len(satirAdlari)):\n",
    "        satirAdi = satirAdlari[satirNo]\n",
    "        isim = sutunAdi + \">\" + satirAdi\n",
    "        datasets[isim] = df_filtreleme(sutunAdi, satirAdi)\n",
    "\n",
    "datasetsNames = list(datasets.keys())\n",
    "datasets\n",
    "\n",
    "entropiler = {}\n",
    "for name in datasetsNames:\n",
    "    degisken = datasets[name][etiketSutunuAdi].value_counts().to_dict()\n",
    "    payda = sum(degisken.values())\n",
    "    entropi = 0\n",
    "    for pay in degisken:\n",
    "        olasilik = degisken[pay] / payda\n",
    "        entropi += olasilik*(-1)*(math.log(olasilik, 2))\n",
    "                                  \n",
    "    isim = name + \"_\" + \"entropi\"\n",
    "    entropiler[isim] = entropi\n",
    "    \n",
    "entropiler\n",
    "\n"
   ]
  },
  {
   "cell_type": "code",
   "execution_count": null,
   "metadata": {},
   "outputs": [],
   "source": []
  },
  {
   "cell_type": "code",
   "execution_count": null,
   "metadata": {},
   "outputs": [],
   "source": []
  }
 ],
 "metadata": {
  "kernelspec": {
   "display_name": "Python 3",
   "language": "python",
   "name": "python3"
  },
  "language_info": {
   "codemirror_mode": {
    "name": "ipython",
    "version": 3
   },
   "file_extension": ".py",
   "mimetype": "text/x-python",
   "name": "python",
   "nbconvert_exporter": "python",
   "pygments_lexer": "ipython3",
   "version": "3.12.3"
  }
 },
 "nbformat": 4,
 "nbformat_minor": 2
}
