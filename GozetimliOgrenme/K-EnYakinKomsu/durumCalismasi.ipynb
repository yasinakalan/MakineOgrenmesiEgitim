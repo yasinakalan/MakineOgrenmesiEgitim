{
 "cells": [
  {
   "cell_type": "code",
   "execution_count": 114,
   "metadata": {},
   "outputs": [],
   "source": [
    "import numpy as np\n",
    "import pandas as pd\n",
    "import matplotlib.pyplot as plt\n",
    "from sklearn.neighbors import KNeighborsClassifier"
   ]
  },
  {
   "cell_type": "code",
   "execution_count": 115,
   "metadata": {},
   "outputs": [
    {
     "data": {
      "text/html": [
       "<div>\n",
       "<style scoped>\n",
       "    .dataframe tbody tr th:only-of-type {\n",
       "        vertical-align: middle;\n",
       "    }\n",
       "\n",
       "    .dataframe tbody tr th {\n",
       "        vertical-align: top;\n",
       "    }\n",
       "\n",
       "    .dataframe thead th {\n",
       "        text-align: right;\n",
       "    }\n",
       "</style>\n",
       "<table border=\"1\" class=\"dataframe\">\n",
       "  <thead>\n",
       "    <tr style=\"text-align: right;\">\n",
       "      <th></th>\n",
       "      <th>x</th>\n",
       "      <th>y</th>\n",
       "      <th>label</th>\n",
       "    </tr>\n",
       "  </thead>\n",
       "  <tbody>\n",
       "    <tr>\n",
       "      <th>0</th>\n",
       "      <td>1</td>\n",
       "      <td>1</td>\n",
       "      <td>A</td>\n",
       "    </tr>\n",
       "    <tr>\n",
       "      <th>1</th>\n",
       "      <td>2</td>\n",
       "      <td>1</td>\n",
       "      <td>A</td>\n",
       "    </tr>\n",
       "    <tr>\n",
       "      <th>2</th>\n",
       "      <td>1</td>\n",
       "      <td>2</td>\n",
       "      <td>A</td>\n",
       "    </tr>\n",
       "    <tr>\n",
       "      <th>3</th>\n",
       "      <td>3</td>\n",
       "      <td>3</td>\n",
       "      <td>B</td>\n",
       "    </tr>\n",
       "    <tr>\n",
       "      <th>4</th>\n",
       "      <td>4</td>\n",
       "      <td>3</td>\n",
       "      <td>B</td>\n",
       "    </tr>\n",
       "    <tr>\n",
       "      <th>5</th>\n",
       "      <td>3</td>\n",
       "      <td>4</td>\n",
       "      <td>B</td>\n",
       "    </tr>\n",
       "  </tbody>\n",
       "</table>\n",
       "</div>"
      ],
      "text/plain": [
       "   x  y label\n",
       "0  1  1     A\n",
       "1  2  1     A\n",
       "2  1  2     A\n",
       "3  3  3     B\n",
       "4  4  3     B\n",
       "5  3  4     B"
      ]
     },
     "execution_count": 115,
     "metadata": {},
     "output_type": "execute_result"
    }
   ],
   "source": [
    "veri = {'x' : [1,2,1,3,4,3],\n",
    "        'y' : [1,1,2,3,3,4],\n",
    "        'label' : ['A','A','A','B','B','B']}\n",
    "df = pd.DataFrame(veri)\n",
    "df"
   ]
  },
  {
   "cell_type": "code",
   "execution_count": 116,
   "metadata": {},
   "outputs": [
    {
     "data": {
      "image/png": "[encoded data removed]",
      "text/plain": [
       "<Figure size 800x600 with 1 Axes>"
      ]
     },
     "metadata": {},
     "output_type": "display_data"
    }
   ],
   "source": [
    "# Scatter grafiği çizme:\n",
    "def grafikData():\n",
    "    colors = {'A' : 'blue',\n",
    "              'B' : 'red'}\n",
    "    plt.figure(figsize=(8,6))\n",
    "    for label in df['label'].unique():\n",
    "        subset = df[df['label'] == label]\n",
    "        grafik = plt.scatter(subset['x'], subset['y'], c=colors[label], label=label, linewidths=5)\n",
    "\n",
    "def grafik():\n",
    "    plt.xlabel('x')\n",
    "    plt.ylabel('y')\n",
    "    plt.title('x-y scatter grafiği')\n",
    "    plt.legend(title='Label')\n",
    "    plt.grid(True)\n",
    "\n",
    "\n",
    "grafikData()\n",
    "# x = 1.5 , y = 2 için label ne olmalıdır?\n",
    "tahmin_x_y = [1.5, 2]\n",
    "plt.scatter(tahmin_x_y[0], tahmin_x_y[1], c='green', label='Belirsiz', linewidths=5)\n",
    "grafik()\n",
    "\n"
   ]
  },
  {
   "cell_type": "code",
   "execution_count": 117,
   "metadata": {},
   "outputs": [
    {
     "data": {
      "text/plain": [
       "{1: 1.118033988749895,\n",
       " 2: 1.118033988749895,\n",
       " 3: 0.5,\n",
       " 4: 1.8027756377319946,\n",
       " 5: 2.692582403567252,\n",
       " 6: 2.5}"
      ]
     },
     "execution_count": 117,
     "metadata": {},
     "output_type": "execute_result"
    }
   ],
   "source": [
    "# EUCLIDEAN MESAFE ALGORİTMASI: ((x-x1)**2 + (y-y1)**2)^(0.5) --> hipotenüs\n",
    "# 1.Nokta ile arasındaki fark: (1,1)-->(1.5,2)\n",
    "nokta1Fark = ((tahmin_x_y[0] - df['x'][0])**2 + (tahmin_x_y[1] - df['y'][1])**2)**(0.5)\n",
    "nokta1Fark\n",
    "\n",
    "# (1.5 , 2) noktasının tüm noktalara olan mesafeleri:\n",
    "mesafe = {}\n",
    "for i in range(1, len(df.index)+1):\n",
    "    mesafe[i] = ((tahmin_x_y[0] - df['x'][i-1])**2 + (tahmin_x_y[1] - df['y'][i-1])**2)**(0.5)\n",
    "mesafe\n",
    "\n",
    "\"\"\"\n",
    "Burada mesafe sözlüğünün içindeki tüm veriler yeni noktanın diğer tüm noktalara olan EUCLIDEAN uzaklığını gösterir.\n",
    "KNN algoritması için K=3 olsaydı. Mesafesi en küçük olan 3 verinin en az 2 tanesinin etiket değerine atanır.\n",
    "\n",
    "Burada K=2 için mesafeler eşit olursa karar verilemez dolayısıyla K değerlerini çift seçmek önerilmez. Genellikle tek sayı seçilmelidir.\n",
    "\"\"\""
   ]
  }
 ],
 "metadata": {
  "kernelspec": {
   "display_name": "Python 3",
   "language": "python",
   "name": "python3"
  },
  "language_info": {
   "codemirror_mode": {
    "name": "ipython",
    "version": 3
   },
   "file_extension": ".py",
   "mimetype": "text/x-python",
   "name": "python",
   "nbconvert_exporter": "python",
   "pygments_lexer": "ipython3",
   "version": "3.12.3"
  }
 },
 "nbformat": 4,
 "nbformat_minor": 2
}
